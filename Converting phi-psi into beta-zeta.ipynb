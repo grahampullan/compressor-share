{
 "cells": [
  {
   "cell_type": "markdown",
   "metadata": {},
   "source": [
    "# Converting phi-psi curves into beta-zeta curves"
   ]
  },
  {
   "cell_type": "markdown",
   "metadata": {},
   "source": [
    "Import some standard python libraries that we need:"
   ]
  },
  {
   "cell_type": "code",
   "execution_count": 5,
   "metadata": {},
   "outputs": [],
   "source": [
    "import numpy as np\n",
    "import matplotlib.pyplot as plt\n",
    "%matplotlib inline"
   ]
  },
  {
   "cell_type": "markdown",
   "metadata": {},
   "source": [
    "`getZeta` is a function that takes phi and psi (arrays) as input, and returns zeta and beta (arrays). To do this, we need information about the gas (cp and gamma) and about the non-dimensional shaft speed (we provide this as inlet stagnation conditions and blade speed), and inlet swirl. This is a compressible calculation at needs iteration:"
   ]
  },
  {
   "cell_type": "code",
   "execution_count": 18,
   "metadata": {},
   "outputs": [],
   "source": [
    "def getZeta(phi, psi, beta2, T01, p01, alpha1, U, cp, ga):\n",
    "    cv = cp / ga                 # work out cv and R from cp and ga\n",
    "    rgas = cp - cv               \n",
    "    beta1 = np.zeros(len(phi))   # initialise our output arrays\n",
    "    zeta  = np.zeros(len(phi))\n",
    "    #\n",
    "    # loop over each point on the phi-psi characteristic\n",
    "    #\n",
    "    for indx, phi in enumerate(phi):\n",
    "        vx1   = phi * np.abs(U)             # inlet axial velocity\n",
    "        vt1   = vx1 * np.tan(alpha1)        # inlet tangential velocity\n",
    "        v1sq  = vx1**2 + vt1**2             \n",
    "        T1    = T01 - 0.5*v1sq/cp           # inlet static T\n",
    "        p1    = p01 * (T1/T01)**(ga/(ga-1)) # inlet static p\n",
    "        ro1   = p1/(rgas*T1)                # inlet density\n",
    "        p2    = psi[indx]*ro1*U**2 + p01    # outlet static p\n",
    "        ro2guess = ro1                      # guess outlet density\n",
    "        conv  = 1E9\n",
    "        #\n",
    "        # convergence loop\n",
    "        #\n",
    "        while (conv>0.000001):\n",
    "            ro2    = ro2guess               # set the outlet density to our guess\n",
    "            vx2    = ro1*vx1 / ro2          # outlet axial velocity\n",
    "            vt2rel = vx2 * np.tan(beta2)    # outlet relative tangential velocity\n",
    "            vt2    = vt2rel + U             # outlet tangential velocity\n",
    "            v2sq   = vx2**2 + vt2**2\n",
    "            T02    = T01 + U*(vt2-vt1)/cp   # outlet stagnation T\n",
    "            T2     = T02 - 0.5*v2sq/cp      \n",
    "            ro2guess = p2/(rgas*T2)         # hence a new guess of outlet density\n",
    "            conv   = np.abs( (ro2-ro2guess)/ro2 )\n",
    "        #\n",
    "        # now we have converged, we need to evaluate zeta\n",
    "        #\n",
    "        vt1rel = vt1 - U                              # upstream relative tangential v\n",
    "        v1relsq = vx1**2 + vt1rel**2                  # upstream relative v^2\n",
    "        dels = cp*np.log(T2/T1) - rgas*np.log(p2/p1)  # change in entropy\n",
    "        zeta_now = (T1*dels)/(0.5*v1relsq)            # loss coefficient, zeta\n",
    "        beta1_now = np.arctan2(vt1rel,vx1)            # inlet angle, beta\n",
    "        beta1[indx] = beta1_now\n",
    "        zeta[indx] = zeta_now\n",
    "    return zeta, beta1"
   ]
  },
  {
   "cell_type": "markdown",
   "metadata": {},
   "source": [
    "Test this on a sample phi-psi chic:"
   ]
  },
  {
   "cell_type": "code",
   "execution_count": 21,
   "metadata": {},
   "outputs": [],
   "source": [
    "#\n",
    "# Use the Moore-Greizter cubic definition as test. Set the\n",
    "# constants to align with some test data from Whittle Lab\n",
    "#\n",
    "phi_W = np.linspace(0.,3.,500)    \n",
    "psi0_H = 0.\n",
    "psi_H = psi0_H + (1 + 1.5*(phi_W - 1) - 0.5*(phi_W - 1)**3)\n",
    "\n",
    "H_W=0.5 * 0.41/0.370   # to align with test data\n",
    "W=0.370/2.\n",
    "\n",
    "phi = phi_W * W\n",
    "psi = psi_H * H_W * W"
   ]
  },
  {
   "cell_type": "markdown",
   "metadata": {},
   "source": [
    "Plot the sample phi-psi characteristic:"
   ]
  },
  {
   "cell_type": "code",
   "execution_count": 16,
   "metadata": {},
   "outputs": [
    {
     "data": {
      "image/png": "[encoded data removed]",
      "text/plain": [
       "<Figure size 432x288 with 1 Axes>"
      ]
     },
     "metadata": {
      "needs_background": "light"
     },
     "output_type": "display_data"
    }
   ],
   "source": [
    "plt.plot(phi,psi)\n",
    "plt.xlabel(\"phi\")\n",
    "plt.ylabel(\"psi\");"
   ]
  },
  {
   "cell_type": "markdown",
   "metadata": {},
   "source": [
    "To set the non-dimensional blade speed, we take our high radius test case (very high hub-to-tip radius ratio), and set the inlet stagnation conditions. We also set the outlet relative flow angle."
   ]
  },
  {
   "cell_type": "code",
   "execution_count": 10,
   "metadata": {},
   "outputs": [],
   "source": [
    "rtip = 634.894653  \n",
    "rhub = 634.831177\n",
    "rmid = 0.5*(rhub+rtip)\n",
    "beta2_mid_deg = 51.45\n",
    "beta2_mid = beta2_mid_deg / 180. * np.pi\n",
    "T01 = 300.\n",
    "p01 = 100000.\n",
    "alpha1 = 0. \n",
    "wrad = -0.125684455 \n",
    "Umid = wrad*rmid\n",
    "cp = 1005.\n",
    "ga = 1.4\n",
    "rgas = cp - cp /ga"
   ]
  },
  {
   "cell_type": "markdown",
   "metadata": {},
   "source": [
    "Use `getZeta` to convert to beta-zeta"
   ]
  },
  {
   "cell_type": "code",
   "execution_count": 11,
   "metadata": {},
   "outputs": [],
   "source": [
    "zeta, beta = getZeta( phi, psi, beta2_mid, T01, p01, alpha1, Umid, cp, ga)"
   ]
  },
  {
   "cell_type": "markdown",
   "metadata": {},
   "source": [
    "and plot the result:"
   ]
  },
  {
   "cell_type": "code",
   "execution_count": 15,
   "metadata": {},
   "outputs": [
    {
     "data": {
      "image/png": "[encoded data removed]",
      "text/plain": [
       "<Figure size 432x288 with 1 Axes>"
      ]
     },
     "metadata": {
      "needs_background": "light"
     },
     "output_type": "display_data"
    }
   ],
   "source": [
    "plt.plot(beta/np.pi*180,zeta)\n",
    "plt.xlabel(\"beta1 (deg)\")\n",
    "plt.ylabel(\"zeta\");"
   ]
  },
  {
   "cell_type": "code",
   "execution_count": null,
   "metadata": {},
   "outputs": [],
   "source": []
  }
 ],
 "metadata": {
  "kernelspec": {
   "display_name": "Python 3",
   "language": "python",
   "name": "python3"
  },
  "language_info": {
   "codemirror_mode": {
    "name": "ipython",
    "version": 3
   },
   "file_extension": ".py",
   "mimetype": "text/x-python",
   "name": "python",
   "nbconvert_exporter": "python",
   "pygments_lexer": "ipython3",
   "version": "3.7.3"
  }
 },
 "nbformat": 4,
 "nbformat_minor": 2
}
